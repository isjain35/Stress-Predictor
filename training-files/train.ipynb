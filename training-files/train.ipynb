{
 "cells": [
  {
   "cell_type": "markdown",
   "metadata": {},
   "source": [
    "# Importing Dependencies"
   ]
  },
  {
   "cell_type": "code",
   "execution_count": 1,
   "metadata": {},
   "outputs": [],
   "source": [
    "import numpy as np\n",
    "import pandas as pd\n",
    "import matplotlib.pyplot as plt\n",
    "import seaborn as sns\n",
    "from sklearn.model_selection import train_test_split\n",
    "from sklearn import metrics\n",
    "from sklearn import linear_model\n",
    "from pickle import dump\n",
    "from lime.lime_tabular import LimeTabularExplainer"
   ]
  },
  {
   "cell_type": "markdown",
   "metadata": {},
   "source": [
    "# Loading Dataset"
   ]
  },
  {
   "cell_type": "code",
   "execution_count": 3,
   "metadata": {},
   "outputs": [],
   "source": [
    "dataset = pd.read_csv('data/data.csv')"
   ]
  },
  {
   "cell_type": "markdown",
   "metadata": {},
   "source": [
    "# Dataset description"
   ]
  },
  {
   "cell_type": "code",
   "execution_count": 4,
   "metadata": {
    "scrolled": false
   },
   "outputs": [
    {
     "data": {
      "text/html": [
       "<div>\n",
       "<style scoped>\n",
       "    .dataframe tbody tr th:only-of-type {\n",
       "        vertical-align: middle;\n",
       "    }\n",
       "\n",
       "    .dataframe tbody tr th {\n",
       "        vertical-align: top;\n",
       "    }\n",
       "\n",
       "    .dataframe thead th {\n",
       "        text-align: right;\n",
       "    }\n",
       "</style>\n",
       "<table border=\"1\" class=\"dataframe\">\n",
       "  <thead>\n",
       "    <tr style=\"text-align: right;\">\n",
       "      <th></th>\n",
       "      <th>OXYL</th>\n",
       "      <th>HR</th>\n",
       "      <th>SLEEP</th>\n",
       "      <th>AP</th>\n",
       "      <th>SI</th>\n",
       "      <th>SL</th>\n",
       "    </tr>\n",
       "  </thead>\n",
       "  <tbody>\n",
       "    <tr>\n",
       "      <th>count</th>\n",
       "      <td>104.000000</td>\n",
       "      <td>104.000000</td>\n",
       "      <td>104.000000</td>\n",
       "      <td>104.000000</td>\n",
       "      <td>104.000000</td>\n",
       "      <td>104.000000</td>\n",
       "    </tr>\n",
       "    <tr>\n",
       "      <th>mean</th>\n",
       "      <td>92.634615</td>\n",
       "      <td>81.365385</td>\n",
       "      <td>6.826923</td>\n",
       "      <td>0.384615</td>\n",
       "      <td>0.423077</td>\n",
       "      <td>2.115385</td>\n",
       "    </tr>\n",
       "    <tr>\n",
       "      <th>std</th>\n",
       "      <td>8.569598</td>\n",
       "      <td>13.456913</td>\n",
       "      <td>1.361341</td>\n",
       "      <td>0.488860</td>\n",
       "      <td>0.496440</td>\n",
       "      <td>0.612296</td>\n",
       "    </tr>\n",
       "    <tr>\n",
       "      <th>min</th>\n",
       "      <td>60.000000</td>\n",
       "      <td>60.000000</td>\n",
       "      <td>4.000000</td>\n",
       "      <td>0.000000</td>\n",
       "      <td>0.000000</td>\n",
       "      <td>1.000000</td>\n",
       "    </tr>\n",
       "    <tr>\n",
       "      <th>25%</th>\n",
       "      <td>90.000000</td>\n",
       "      <td>74.500000</td>\n",
       "      <td>6.000000</td>\n",
       "      <td>0.000000</td>\n",
       "      <td>0.000000</td>\n",
       "      <td>2.000000</td>\n",
       "    </tr>\n",
       "    <tr>\n",
       "      <th>50%</th>\n",
       "      <td>97.000000</td>\n",
       "      <td>78.000000</td>\n",
       "      <td>7.000000</td>\n",
       "      <td>0.000000</td>\n",
       "      <td>0.000000</td>\n",
       "      <td>2.000000</td>\n",
       "    </tr>\n",
       "    <tr>\n",
       "      <th>75%</th>\n",
       "      <td>98.000000</td>\n",
       "      <td>83.000000</td>\n",
       "      <td>8.000000</td>\n",
       "      <td>1.000000</td>\n",
       "      <td>1.000000</td>\n",
       "      <td>2.250000</td>\n",
       "    </tr>\n",
       "    <tr>\n",
       "      <th>max</th>\n",
       "      <td>101.000000</td>\n",
       "      <td>130.000000</td>\n",
       "      <td>10.000000</td>\n",
       "      <td>1.000000</td>\n",
       "      <td>1.000000</td>\n",
       "      <td>3.000000</td>\n",
       "    </tr>\n",
       "  </tbody>\n",
       "</table>\n",
       "</div>"
      ],
      "text/plain": [
       "             OXYL          HR       SLEEP          AP          SI          SL\n",
       "count  104.000000  104.000000  104.000000  104.000000  104.000000  104.000000\n",
       "mean    92.634615   81.365385    6.826923    0.384615    0.423077    2.115385\n",
       "std      8.569598   13.456913    1.361341    0.488860    0.496440    0.612296\n",
       "min     60.000000   60.000000    4.000000    0.000000    0.000000    1.000000\n",
       "25%     90.000000   74.500000    6.000000    0.000000    0.000000    2.000000\n",
       "50%     97.000000   78.000000    7.000000    0.000000    0.000000    2.000000\n",
       "75%     98.000000   83.000000    8.000000    1.000000    1.000000    2.250000\n",
       "max    101.000000  130.000000   10.000000    1.000000    1.000000    3.000000"
      ]
     },
     "execution_count": 4,
     "metadata": {},
     "output_type": "execute_result"
    }
   ],
   "source": [
    "dataset.describe()"
   ]
  },
  {
   "cell_type": "markdown",
   "metadata": {},
   "source": [
    "# Data Framing"
   ]
  },
  {
   "cell_type": "code",
   "execution_count": 5,
   "metadata": {
    "scrolled": true
   },
   "outputs": [
    {
     "data": {
      "text/html": [
       "<div>\n",
       "<style scoped>\n",
       "    .dataframe tbody tr th:only-of-type {\n",
       "        vertical-align: middle;\n",
       "    }\n",
       "\n",
       "    .dataframe tbody tr th {\n",
       "        vertical-align: top;\n",
       "    }\n",
       "\n",
       "    .dataframe thead th {\n",
       "        text-align: right;\n",
       "    }\n",
       "</style>\n",
       "<table border=\"1\" class=\"dataframe\">\n",
       "  <thead>\n",
       "    <tr style=\"text-align: right;\">\n",
       "      <th></th>\n",
       "      <th>OXYL</th>\n",
       "      <th>HR</th>\n",
       "      <th>SLEEP</th>\n",
       "      <th>AP</th>\n",
       "      <th>SI</th>\n",
       "    </tr>\n",
       "  </thead>\n",
       "  <tbody>\n",
       "    <tr>\n",
       "      <th>0</th>\n",
       "      <td>99</td>\n",
       "      <td>85</td>\n",
       "      <td>7</td>\n",
       "      <td>1</td>\n",
       "      <td>0</td>\n",
       "    </tr>\n",
       "    <tr>\n",
       "      <th>1</th>\n",
       "      <td>98</td>\n",
       "      <td>75</td>\n",
       "      <td>8</td>\n",
       "      <td>0</td>\n",
       "      <td>0</td>\n",
       "    </tr>\n",
       "    <tr>\n",
       "      <th>2</th>\n",
       "      <td>90</td>\n",
       "      <td>80</td>\n",
       "      <td>6</td>\n",
       "      <td>0</td>\n",
       "      <td>1</td>\n",
       "    </tr>\n",
       "    <tr>\n",
       "      <th>3</th>\n",
       "      <td>99</td>\n",
       "      <td>83</td>\n",
       "      <td>7</td>\n",
       "      <td>0</td>\n",
       "      <td>0</td>\n",
       "    </tr>\n",
       "    <tr>\n",
       "      <th>4</th>\n",
       "      <td>90</td>\n",
       "      <td>121</td>\n",
       "      <td>10</td>\n",
       "      <td>1</td>\n",
       "      <td>0</td>\n",
       "    </tr>\n",
       "  </tbody>\n",
       "</table>\n",
       "</div>"
      ],
      "text/plain": [
       "   OXYL   HR  SLEEP  AP  SI\n",
       "0    99   85      7   1   0\n",
       "1    98   75      8   0   0\n",
       "2    90   80      6   0   1\n",
       "3    99   83      7   0   0\n",
       "4    90  121     10   1   0"
      ]
     },
     "execution_count": 5,
     "metadata": {},
     "output_type": "execute_result"
    }
   ],
   "source": [
    "dataframe = pd.DataFrame(dataset, columns = ['OXYL', 'HR', 'SLEEP', 'AP', 'SI'])\n",
    "dataframe.head()"
   ]
  },
  {
   "cell_type": "code",
   "execution_count": 6,
   "metadata": {},
   "outputs": [
    {
     "data": {
      "text/html": [
       "<div>\n",
       "<style scoped>\n",
       "    .dataframe tbody tr th:only-of-type {\n",
       "        vertical-align: middle;\n",
       "    }\n",
       "\n",
       "    .dataframe tbody tr th {\n",
       "        vertical-align: top;\n",
       "    }\n",
       "\n",
       "    .dataframe thead th {\n",
       "        text-align: right;\n",
       "    }\n",
       "</style>\n",
       "<table border=\"1\" class=\"dataframe\">\n",
       "  <thead>\n",
       "    <tr style=\"text-align: right;\">\n",
       "      <th></th>\n",
       "      <th>OXYL</th>\n",
       "      <th>HR</th>\n",
       "      <th>SLEEP</th>\n",
       "      <th>AP</th>\n",
       "      <th>SI</th>\n",
       "      <th>SL</th>\n",
       "    </tr>\n",
       "  </thead>\n",
       "  <tbody>\n",
       "    <tr>\n",
       "      <th>0</th>\n",
       "      <td>99</td>\n",
       "      <td>85</td>\n",
       "      <td>7</td>\n",
       "      <td>1</td>\n",
       "      <td>0</td>\n",
       "      <td>2</td>\n",
       "    </tr>\n",
       "    <tr>\n",
       "      <th>1</th>\n",
       "      <td>98</td>\n",
       "      <td>75</td>\n",
       "      <td>8</td>\n",
       "      <td>0</td>\n",
       "      <td>0</td>\n",
       "      <td>2</td>\n",
       "    </tr>\n",
       "    <tr>\n",
       "      <th>2</th>\n",
       "      <td>90</td>\n",
       "      <td>80</td>\n",
       "      <td>6</td>\n",
       "      <td>0</td>\n",
       "      <td>1</td>\n",
       "      <td>2</td>\n",
       "    </tr>\n",
       "    <tr>\n",
       "      <th>3</th>\n",
       "      <td>99</td>\n",
       "      <td>83</td>\n",
       "      <td>7</td>\n",
       "      <td>0</td>\n",
       "      <td>0</td>\n",
       "      <td>2</td>\n",
       "    </tr>\n",
       "    <tr>\n",
       "      <th>4</th>\n",
       "      <td>90</td>\n",
       "      <td>121</td>\n",
       "      <td>10</td>\n",
       "      <td>1</td>\n",
       "      <td>0</td>\n",
       "      <td>2</td>\n",
       "    </tr>\n",
       "  </tbody>\n",
       "</table>\n",
       "</div>"
      ],
      "text/plain": [
       "   OXYL   HR  SLEEP  AP  SI  SL\n",
       "0    99   85      7   1   0   2\n",
       "1    98   75      8   0   0   2\n",
       "2    90   80      6   0   1   2\n",
       "3    99   83      7   0   0   2\n",
       "4    90  121     10   1   0   2"
      ]
     },
     "execution_count": 6,
     "metadata": {},
     "output_type": "execute_result"
    }
   ],
   "source": [
    "dataframe['SL'] = dataset.SL\n",
    "dataframe.head()"
   ]
  },
  {
   "cell_type": "markdown",
   "metadata": {},
   "source": [
    "# Correlation and Heatmap"
   ]
  },
  {
   "cell_type": "code",
   "execution_count": 7,
   "metadata": {},
   "outputs": [],
   "source": [
    "correlation = dataframe.corr()"
   ]
  },
  {
   "cell_type": "code",
   "execution_count": 8,
   "metadata": {},
   "outputs": [
    {
     "data": {
      "text/plain": [
       "<Axes: >"
      ]
     },
     "execution_count": 8,
     "metadata": {},
     "output_type": "execute_result"
    },
    {
     "data": {
      "image/png": "[encoded data removed]",
      "text/plain": [
       "<Figure size 900x900 with 2 Axes>"
      ]
     },
     "metadata": {},
     "output_type": "display_data"
    }
   ],
   "source": [
    "plt.figure(figsize=(9, 9))\n",
    "sns.heatmap(correlation, cbar=True, square=True, fmt='.1f', annot=True, annot_kws={'size':10}, cmap='Greens')"
   ]
  },
  {
   "cell_type": "markdown",
   "metadata": {},
   "source": [
    "# Splitting Attributes and Stress Level"
   ]
  },
  {
   "cell_type": "code",
   "execution_count": 9,
   "metadata": {},
   "outputs": [],
   "source": [
    "X = dataframe.drop(['SL'], axis=1)\n",
    "Y = dataframe['SL']"
   ]
  },
  {
   "cell_type": "code",
   "execution_count": 10,
   "metadata": {},
   "outputs": [
    {
     "name": "stdout",
     "output_type": "stream",
     "text": [
      "     OXYL   HR  SLEEP  AP  SI\n",
      "0      99   85      7   1   0\n",
      "1      98   75      8   0   0\n",
      "2      90   80      6   0   1\n",
      "3      99   83      7   0   0\n",
      "4      90  121     10   1   0\n",
      "..    ...  ...    ...  ..  ..\n",
      "99     83   93      5   0   1\n",
      "100    85   75      5   0   0\n",
      "101    70   73      5   0   1\n",
      "102    79   80      9   0   0\n",
      "103    90   80      5   0   1\n",
      "\n",
      "[104 rows x 5 columns]\n",
      "0      2\n",
      "1      2\n",
      "2      2\n",
      "3      2\n",
      "4      2\n",
      "      ..\n",
      "99     3\n",
      "100    3\n",
      "101    3\n",
      "102    2\n",
      "103    3\n",
      "Name: SL, Length: 104, dtype: int64\n"
     ]
    }
   ],
   "source": [
    "print(X)\n",
    "print(Y)"
   ]
  },
  {
   "cell_type": "markdown",
   "metadata": {},
   "source": [
    "# Splitting Data into Training and Testing Modules"
   ]
  },
  {
   "cell_type": "code",
   "execution_count": 11,
   "metadata": {},
   "outputs": [
    {
     "name": "stdout",
     "output_type": "stream",
     "text": [
      "(104, 5) (83, 5) (21, 5)\n"
     ]
    }
   ],
   "source": [
    "X_train, X_test, Y_train, Y_test = train_test_split(X, Y, test_size=0.2, random_state=2)\n",
    "print(X.shape, X_train.shape, X_test.shape)"
   ]
  },
  {
   "cell_type": "markdown",
   "metadata": {},
   "source": [
    "# Training the Model - Multiple Regression"
   ]
  },
  {
   "cell_type": "code",
   "execution_count": 12,
   "metadata": {},
   "outputs": [
    {
     "data": {
      "text/plain": [
       "LinearRegression()"
      ]
     },
     "execution_count": 12,
     "metadata": {},
     "output_type": "execute_result"
    }
   ],
   "source": [
    "model = linear_model.LinearRegression()\n",
    "model.fit(X_train.values, Y_train.values)\n"
   ]
  },
  {
   "cell_type": "markdown",
   "metadata": {},
   "source": [
    "# Saving the model"
   ]
  },
  {
   "cell_type": "code",
   "execution_count": 14,
   "metadata": {},
   "outputs": [],
   "source": [
    "dump(model, open('trained-model/mymodel.pkl','wb')) "
   ]
  },
  {
   "cell_type": "markdown",
   "metadata": {},
   "source": [
    "# Prediction and Evaluation"
   ]
  },
  {
   "cell_type": "code",
   "execution_count": 15,
   "metadata": {
    "scrolled": true
   },
   "outputs": [
    {
     "name": "stdout",
     "output_type": "stream",
     "text": [
      "[2.06186673 1.85584418 2.21482453 2.36336063 2.58543985 2.251903\n",
      " 2.92698528 1.53810083 2.96543905 2.251903   1.88144199 2.04664142\n",
      " 2.48199252 1.85584418 2.59611927 1.57715776 2.03898    1.57440939\n",
      " 2.674391   2.74671485 2.17324929 1.69731457 2.58543985 2.33276753\n",
      " 2.6412831  2.91706981 1.4627241  1.57440939 2.33276753 1.88879949\n",
      " 1.93827685 2.21482453 1.88144199 2.48199252 3.22001655 2.07613353\n",
      " 1.69731457 2.17324929 1.94842468 1.98298244 2.21482453 1.6022583\n",
      " 1.41695064 1.45196664 1.94842468 1.61370166 1.38468003 1.86061475\n",
      " 1.4627241  1.98298244 1.63697037 2.3793842  2.17435027 2.04664142\n",
      " 1.97912543 1.91321711 3.22001655 2.35565426 1.57715776 1.7292032\n",
      " 1.86061475 2.74671485 1.38468003 1.53810083 1.88967995 2.6412831\n",
      " 2.17435027 1.89162413 1.94148226 2.06186673 2.91706981 1.7292032\n",
      " 1.6022583  2.92698528 1.61370166 1.93827685 2.10275727 2.15036136\n",
      " 2.674391   1.41695064 1.89162413 1.88967995 2.35565426]\n"
     ]
    }
   ],
   "source": [
    "# On training data\n",
    "training_predection = model.predict(X_train.values)\n",
    "print(training_predection)"
   ]
  },
  {
   "cell_type": "code",
   "execution_count": 16,
   "metadata": {
    "scrolled": true
   },
   "outputs": [],
   "source": [
    "# R Squared Error\n",
    "errorR = metrics.r2_score(Y_train,training_predection)\n",
    "accuracyR = 100-((errorR/11)*100)\n",
    "\n",
    "# Mean Absolute Error\n",
    "errorM = metrics.mean_absolute_error(Y_train,training_predection)\n",
    "accuracyM = 100-((errorM/11)*100)"
   ]
  },
  {
   "cell_type": "code",
   "execution_count": 17,
   "metadata": {},
   "outputs": [
    {
     "name": "stdout",
     "output_type": "stream",
     "text": [
      "[2.68988    2.15036136 1.45196664 2.96543905 1.91321711 2.10275727\n",
      " 2.59611927 2.21482453 2.7520578  1.88879949 1.94148226 1.97859086\n",
      " 2.7520578  2.3793842  1.63697037 2.36336063 2.07613353 2.68988\n",
      " 1.97912543 1.97859086 2.03898   ]\n"
     ]
    }
   ],
   "source": [
    "# On testing data\n",
    "testing_predection = model.predict(X_test.values)\n",
    "print(testing_predection)"
   ]
  },
  {
   "cell_type": "code",
   "execution_count": 18,
   "metadata": {},
   "outputs": [],
   "source": [
    "# R Squared Error\n",
    "errorR_test = metrics.r2_score(Y_test,testing_predection)\n",
    "accuracyR_test = 100-((errorR_test/11)*100)\n",
    "\n",
    "# Mean Absolute Error\n",
    "errorM_test = metrics.mean_absolute_error(Y_test,testing_predection)\n",
    "accuracyM_test = 100-((errorM_test/11)*100)"
   ]
  },
  {
   "cell_type": "code",
   "execution_count": 19,
   "metadata": {},
   "outputs": [
    {
     "name": "stdout",
     "output_type": "stream",
     "text": [
      "Accuracy levels in percentage\n",
      "\n",
      "                     Training    Testing\n",
      "R squared Error      95.51062  98.293461\n",
      "Mean absolute error  96.68475  97.442852\n"
     ]
    }
   ],
   "source": [
    "scores = {\n",
    "    'Training':{\n",
    "        'R squared Error':accuracyR,\n",
    "        'Mean absolute error':accuracyM\n",
    "    },\n",
    "    'Testing':{\n",
    "        'R squared Error':accuracyR_test,\n",
    "        'Mean absolute error':accuracyM_test\n",
    "    }\n",
    "}\n",
    "scores_df = pd.DataFrame(scores)\n",
    "print('Accuracy levels in percentage\\n')\n",
    "print(scores_df)"
   ]
  },
  {
   "cell_type": "markdown",
   "metadata": {},
   "source": [
    "# Implementing XAI"
   ]
  },
  {
   "cell_type": "code",
   "execution_count": 20,
   "metadata": {},
   "outputs": [],
   "source": [
    "# Instantiating the explainer object by passing in the training set, and the extracted features\n",
    "explainer = LimeTabularExplainer(training_data=X_train.values, mode = 'regression', feature_names=X_train.columns)\n",
    "\n",
    "\n",
    "\n",
    "\n",
    "# Calling the explain_instance method by passing in the:\n",
    "#    1) ith test vector\n",
    "#    2) prediction function used by our prediction model('model' in this case)\n",
    "i=3\n",
    "explaining_obs = explainer.explain_instance(X_train.iloc[i], model.predict)\n",
    "\n",
    "\n",
    "\n",
    "\n",
    "# Finally visualizing the explanations\n",
    "explaining_obs.show_in_notebook()"
   ]
  },
  {
   "cell_type": "code",
   "execution_count": null,
   "metadata": {},
   "outputs": [],
   "source": []
  },
  {
   "cell_type": "code",
   "execution_count": null,
   "metadata": {},
   "outputs": [],
   "source": []
  }
 ],
 "metadata": {
  "kernelspec": {
   "display_name": "Python 3 (ipykernel)",
   "language": "python",
   "name": "python3"
  },
  "language_info": {
   "codemirror_mode": {
    "name": "ipython",
    "version": 3
   },
   "file_extension": ".py",
   "mimetype": "text/x-python",
   "name": "python",
   "nbconvert_exporter": "python",
   "pygments_lexer": "ipython3",
   "version": "3.9.13"
  },
  "vscode": {
   "interpreter": {
    "hash": "b0fa6594d8f4cbf19f97940f81e996739fb7646882a419484c72d19e05852a7e"
   }
  }
 },
 "nbformat": 4,
 "nbformat_minor": 2
}
